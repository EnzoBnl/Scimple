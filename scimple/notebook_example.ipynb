{
 "cells": [
  {
   "cell_type": "markdown",
   "metadata": {},
   "source": [
    "# SCIMPLE 1.10.3 examples of use"
   ]
  },
  {
   "cell_type": "code",
   "execution_count": null,
   "metadata": {},
   "outputs": [],
   "source": [
    "import sys\n",
    "sys.path.append('c:/Prog/Python/Scimple/scm')"
   ]
  },
  {
   "cell_type": "code",
   "execution_count": null,
   "metadata": {},
   "outputs": [],
   "source": [
    "# from importlib import reload\n",
    "# reload(scm)"
   ]
  },
  {
   "cell_type": "markdown",
   "metadata": {},
   "source": [
    "## PySpark"
   ]
  },
  {
   "cell_type": "code",
   "execution_count": 2,
   "metadata": {},
   "outputs": [
    {
     "data": {
      "text/html": [
       "\n",
       "        <div>\n",
       "            <p><b>SparkContext</b></p>\n",
       "\n",
       "            <p><a href=\"http://EB-OR6146838.nanterre.francetelecom.fr:4040\">Spark UI</a></p>\n",
       "\n",
       "            <dl>\n",
       "              <dt>Version</dt>\n",
       "                <dd><code>v2.3.0</code></dd>\n",
       "              <dt>Master</dt>\n",
       "                <dd><code>local[*]</code></dd>\n",
       "              <dt>AppName</dt>\n",
       "                <dd><code>pyspark-shell</code></dd>\n",
       "            </dl>\n",
       "        </div>\n",
       "        "
      ],
      "text/plain": [
       "<SparkContext master=local[*] appName=pyspark-shell>"
      ]
     },
     "execution_count": 2,
     "metadata": {},
     "output_type": "execute_result"
    }
   ],
   "source": [
    "from scimple import sc_sqlc\n",
    "sc, sqlc = sc_sqlc()\n",
    "sc"
   ]
  },
  {
   "cell_type": "markdown",
   "metadata": {},
   "source": [
    "##### Word Count on some scimple source file:"
   ]
  },
  {
   "cell_type": "code",
   "execution_count": 3,
   "metadata": {},
   "outputs": [],
   "source": [
    "import re\n",
    "word_count = sc.textFile('plot.py').flatMap(lambda line: re.split(r' |:|,|\\n|\\t|\\(|\\)|\\{|\\}|\\[|\\]|\"|\\'', line))\\\n",
    "               .filter(lambda word: len(word)!=0)\\\n",
    "               .map(lambda word: (word, 1))\\\n",
    "               .reduceByKey(lambda a,b: a+b).sortBy(lambda pair: pair[1]).collect()"
   ]
  },
  {
   "cell_type": "markdown",
   "metadata": {},
   "source": [
    "##### Data Viz:\n",
    "(more in 'Plot' section)"
   ]
  },
  {
   "cell_type": "code",
   "execution_count": 4,
   "metadata": {
    "scrolled": true
   },
   "outputs": [
    {
     "data": {
      "text/plain": [
       "<scimple.plot.Plot at 0xfa2d588>"
      ]
     },
     "execution_count": 4,
     "metadata": {},
     "output_type": "execute_result"
    },
    {
     "data": {
      "image/png": "[encoded data removed]",
      "text/plain": [
       "<Figure size 432x288 with 1 Axes>"
      ]
     },
     "metadata": {},
     "output_type": "display_data"
    }
   ],
   "source": [
    "from scimple import Plot\n",
    "%matplotlib inline\n",
    "Plot(title='words count in scimple source', xlabel='word', ylabel='occurence')\\\n",
    "     .add(word_count[-20:-1], 0, 1, marker='bar', colored_by=1)"
   ]
  },
  {
   "cell_type": "markdown",
   "metadata": {},
   "source": [
    "## Kafka"
   ]
  },
  {
   "cell_type": "code",
   "execution_count": 5,
   "metadata": {},
   "outputs": [],
   "source": [
    "from scimple import kafka"
   ]
  },
  {
   "cell_type": "code",
   "execution_count": 6,
   "metadata": {},
   "outputs": [
    {
     "name": "stdout",
     "output_type": "stream",
     "text": [
      "Kafka server started\n"
     ]
    }
   ],
   "source": [
    "kafka.start_server(window=5)"
   ]
  },
  {
   "cell_type": "code",
   "execution_count": null,
   "metadata": {},
   "outputs": [],
   "source": [
    "dstream = kafka.create_dstream('source_lines')"
   ]
  },
  {
   "cell_type": "code",
   "execution_count": null,
   "metadata": {
    "scrolled": true
   },
   "outputs": [],
   "source": [
    "rdd_buff = list()\n",
    "dstream.foreachRDD(lambda rdd: rdd_buff.append(rdd.collect()))"
   ]
  },
  {
   "cell_type": "code",
   "execution_count": null,
   "metadata": {},
   "outputs": [],
   "source": [
    "kafka.start_listening()"
   ]
  },
  {
   "cell_type": "code",
   "execution_count": null,
   "metadata": {
    "scrolled": true
   },
   "outputs": [],
   "source": [
    "import time\n",
    "for line in open('plot.py', 'r').read().split('\\n'):\n",
    "    kafka.talk('source_lines', line)"
   ]
  },
  {
   "cell_type": "code",
   "execution_count": null,
   "metadata": {},
   "outputs": [],
   "source": [
    "kafka.flush()"
   ]
  },
  {
   "cell_type": "code",
   "execution_count": null,
   "metadata": {},
   "outputs": [],
   "source": [
    "kafka.stop_listening()"
   ]
  },
  {
   "cell_type": "code",
   "execution_count": 7,
   "metadata": {},
   "outputs": [
    {
     "name": "stdout",
     "output_type": "stream",
     "text": [
      "Kafka server ended\n"
     ]
    }
   ],
   "source": [
    "kafka.stop_server()"
   ]
  },
  {
   "cell_type": "code",
   "execution_count": null,
   "metadata": {},
   "outputs": [],
   "source": [
    "print('\\n'.join([key_value[1] for key_value in scm.flatten_n_times(1,rdd_buff)][:4]))"
   ]
  },
  {
   "cell_type": "markdown",
   "metadata": {},
   "source": [
    "### Environment to JSON"
   ]
  },
  {
   "cell_type": "code",
   "execution_count": null,
   "metadata": {
    "scrolled": true
   },
   "outputs": [],
   "source": [
    "name = scm.save_environ()\n",
    "import os\n",
    "import json\n",
    "print(json.load(open(name))['PYTHONPATH'])\n",
    "os.remove(name)"
   ]
  },
  {
   "cell_type": "markdown",
   "metadata": {},
   "source": [
    "## Plots"
   ]
  },
  {
   "cell_type": "code",
   "execution_count": 8,
   "metadata": {},
   "outputs": [
    {
     "ename": "FileNotFoundError",
     "evalue": "[Errno 2] No such file or directory: 'C:/Applications/Anaconda3/lib/site-packages/scimple/scimple_data/phenyl-Fe-porphyirine-CO2-Me_4_rel.xyz'",
     "output_type": "error",
     "traceback": [
      "\u001b[1;31m---------------------------------------------------------------------------\u001b[0m",
      "\u001b[1;31mFileNotFoundError\u001b[0m                         Traceback (most recent call last)",
      "\u001b[1;32m<ipython-input-8-8e8535b28272>\u001b[0m in \u001b[0;36m<module>\u001b[1;34m()\u001b[0m\n\u001b[0;32m      3\u001b[0m \u001b[1;32mimport\u001b[0m \u001b[0mmath\u001b[0m\u001b[1;33m\u001b[0m\u001b[0m\n\u001b[0;32m      4\u001b[0m \u001b[1;32mimport\u001b[0m \u001b[0mrandom\u001b[0m\u001b[1;33m\u001b[0m\u001b[0m\n\u001b[1;32m----> 5\u001b[1;33m \u001b[0mtab\u001b[0m \u001b[1;33m=\u001b[0m \u001b[0mget_sample\u001b[0m\u001b[1;33m(\u001b[0m\u001b[1;34m'xyz'\u001b[0m\u001b[1;33m,\u001b[0m \u001b[0mpd\u001b[0m\u001b[1;33m.\u001b[0m\u001b[0mDataFrame\u001b[0m\u001b[1;33m)\u001b[0m\u001b[1;33m\u001b[0m\u001b[0m\n\u001b[0m\u001b[0;32m      6\u001b[0m \u001b[0mtab_\u001b[0m\u001b[1;33m=\u001b[0m\u001b[1;33m[\u001b[0m\u001b[1;33m[\u001b[0m\u001b[0mi\u001b[0m\u001b[1;33m,\u001b[0m\u001b[0mi\u001b[0m\u001b[1;33m//\u001b[0m\u001b[1;36m2\u001b[0m\u001b[1;33m]\u001b[0m \u001b[1;32mfor\u001b[0m \u001b[0mi\u001b[0m \u001b[1;32min\u001b[0m \u001b[0mrange\u001b[0m\u001b[1;33m(\u001b[0m\u001b[1;36m20\u001b[0m\u001b[1;33m)\u001b[0m\u001b[1;33m]\u001b[0m\u001b[1;33m\u001b[0m\u001b[0m\n\u001b[0;32m      7\u001b[0m \u001b[0mcharges\u001b[0m \u001b[1;33m=\u001b[0m \u001b[0mget_sample\u001b[0m\u001b[1;33m(\u001b[0m\u001b[1;34m'charges'\u001b[0m\u001b[1;33m,\u001b[0m \u001b[0mpd\u001b[0m\u001b[1;33m.\u001b[0m\u001b[0mDataFrame\u001b[0m\u001b[1;33m)\u001b[0m\u001b[1;33m\u001b[0m\u001b[0m\n",
      "\u001b[1;32mC:\\Applications\\Anaconda3\\lib\\site-packages\\scimple\\plot.py\u001b[0m in \u001b[0;36mget_sample\u001b[1;34m(id, cast)\u001b[0m\n\u001b[0;32m    971\u001b[0m            'adults': 'adult.txt'}\n\u001b[0;32m    972\u001b[0m     \u001b[1;32mif\u001b[0m \u001b[0mid\u001b[0m \u001b[1;33m==\u001b[0m \u001b[1;34m'xyz'\u001b[0m\u001b[1;33m:\u001b[0m\u001b[1;33m\u001b[0m\u001b[0m\n\u001b[1;32m--> 973\u001b[1;33m         \u001b[0mres\u001b[0m \u001b[1;33m=\u001b[0m \u001b[1;33m[\u001b[0m\u001b[0mline\u001b[0m\u001b[1;33m[\u001b[0m\u001b[1;36m1\u001b[0m\u001b[1;33m:\u001b[0m\u001b[1;33m]\u001b[0m \u001b[1;32mfor\u001b[0m \u001b[0mline\u001b[0m \u001b[1;32min\u001b[0m \u001b[0mload_csv\u001b[0m\u001b[1;33m(\u001b[0m\u001b[0m_get_scimple_data_path\u001b[0m\u001b[1;33m(\u001b[0m\u001b[0mdic\u001b[0m\u001b[1;33m[\u001b[0m\u001b[0mid\u001b[0m\u001b[1;33m]\u001b[0m\u001b[1;33m)\u001b[0m\u001b[1;33m,\u001b[0m \u001b[1;34mr'[\\t| ]*[[\\r\\n]|\\n]'\u001b[0m\u001b[1;33m,\u001b[0m \u001b[1;34mr'[\\t| ]+'\u001b[0m\u001b[1;33m)\u001b[0m\u001b[1;33m[\u001b[0m\u001b[1;36m2\u001b[0m\u001b[1;33m:\u001b[0m\u001b[1;33m-\u001b[0m\u001b[1;36m1\u001b[0m\u001b[1;33m]\u001b[0m\u001b[1;33m]\u001b[0m\u001b[1;33m\u001b[0m\u001b[0m\n\u001b[0m\u001b[0;32m    974\u001b[0m     \u001b[1;32melif\u001b[0m \u001b[0mid\u001b[0m \u001b[1;33m==\u001b[0m \u001b[1;34m'charges'\u001b[0m\u001b[1;33m:\u001b[0m\u001b[1;33m\u001b[0m\u001b[0m\n\u001b[0;32m    975\u001b[0m         \u001b[0mres\u001b[0m \u001b[1;33m=\u001b[0m \u001b[1;33m[\u001b[0m\u001b[0mline\u001b[0m\u001b[1;33m[\u001b[0m\u001b[1;36m1\u001b[0m\u001b[1;33m:\u001b[0m\u001b[1;33m]\u001b[0m \u001b[1;32mfor\u001b[0m \u001b[0mline\u001b[0m \u001b[1;32min\u001b[0m \u001b[0mload_csv\u001b[0m\u001b[1;33m(\u001b[0m\u001b[0m_get_scimple_data_path\u001b[0m\u001b[1;33m(\u001b[0m\u001b[0mdic\u001b[0m\u001b[1;33m[\u001b[0m\u001b[0mid\u001b[0m\u001b[1;33m]\u001b[0m\u001b[1;33m)\u001b[0m\u001b[1;33m,\u001b[0m \u001b[1;34mr'[\\t| ]*[[\\r\\n]|\\n]'\u001b[0m\u001b[1;33m,\u001b[0m \u001b[1;34mr'[\\t| ]+'\u001b[0m\u001b[1;33m)\u001b[0m\u001b[1;33m[\u001b[0m\u001b[1;36m2\u001b[0m\u001b[1;33m:\u001b[0m\u001b[1;33m-\u001b[0m\u001b[1;36m1\u001b[0m\u001b[1;33m]\u001b[0m\u001b[1;33m]\u001b[0m\u001b[1;33m\u001b[0m\u001b[0m\n",
      "\u001b[1;32mC:\\Applications\\Anaconda3\\lib\\site-packages\\scimple\\plot.py\u001b[0m in \u001b[0;36mload_csv\u001b[1;34m(path, delimiter, sep)\u001b[0m\n\u001b[0;32m    954\u001b[0m     \u001b[0mtype_value_checks\u001b[0m\u001b[1;33m(\u001b[0m\u001b[0mdelimiter\u001b[0m\u001b[1;33m,\u001b[0m \u001b[0mgood_types\u001b[0m\u001b[1;33m=\u001b[0m\u001b[0mstr\u001b[0m\u001b[1;33m,\u001b[0m \u001b[0mtype_message\u001b[0m\u001b[1;33m=\u001b[0m\u001b[1;34m'delimiter should be a string'\u001b[0m\u001b[1;33m)\u001b[0m\u001b[1;33m\u001b[0m\u001b[0m\n\u001b[0;32m    955\u001b[0m     \u001b[0mtype_value_checks\u001b[0m\u001b[1;33m(\u001b[0m\u001b[0msep\u001b[0m\u001b[1;33m,\u001b[0m \u001b[0mgood_types\u001b[0m\u001b[1;33m=\u001b[0m\u001b[0mstr\u001b[0m\u001b[1;33m,\u001b[0m \u001b[0mtype_message\u001b[0m\u001b[1;33m=\u001b[0m\u001b[1;34m'sep should be a string'\u001b[0m\u001b[1;33m)\u001b[0m\u001b[1;33m\u001b[0m\u001b[0m\n\u001b[1;32m--> 956\u001b[1;33m     \u001b[0mf\u001b[0m \u001b[1;33m=\u001b[0m \u001b[0mopen\u001b[0m\u001b[1;33m(\u001b[0m\u001b[0mpath\u001b[0m\u001b[1;33m,\u001b[0m \u001b[1;34m'r'\u001b[0m\u001b[1;33m)\u001b[0m\u001b[1;33m\u001b[0m\u001b[0m\n\u001b[0m\u001b[0;32m    957\u001b[0m     \u001b[0mas_string\u001b[0m \u001b[1;33m=\u001b[0m \u001b[0mf\u001b[0m\u001b[1;33m.\u001b[0m\u001b[0mread\u001b[0m\u001b[1;33m(\u001b[0m\u001b[1;33m)\u001b[0m\u001b[1;33m\u001b[0m\u001b[0m\n\u001b[0;32m    958\u001b[0m     \u001b[0mf\u001b[0m\u001b[1;33m.\u001b[0m\u001b[0mclose\u001b[0m\u001b[1;33m(\u001b[0m\u001b[1;33m)\u001b[0m\u001b[1;33m\u001b[0m\u001b[0m\n",
      "\u001b[1;31mFileNotFoundError\u001b[0m: [Errno 2] No such file or directory: 'C:/Applications/Anaconda3/lib/site-packages/scimple/scimple_data/phenyl-Fe-porphyirine-CO2-Me_4_rel.xyz'"
     ]
    }
   ],
   "source": [
    "from scimple import Plot, get_sample, xgrid, ygrid\n",
    "import pandas as pd\n",
    "import math\n",
    "import random\n",
    "tab = get_sample('xyz', pd.DataFrame)\n",
    "tab_=[[i,i//2] for i in range(20)]\n",
    "charges = get_sample('charges', pd.DataFrame)\n",
    "tab.columns=['atom', 'x', 'y', 'z']\n",
    "# %matplotlib notebook\n",
    "%matplotlib inline"
   ]
  },
  {
   "cell_type": "markdown",
   "metadata": {},
   "source": [
    "##### `colored_by` parameter possibilities"
   ]
  },
  {
   "cell_type": "code",
   "execution_count": null,
   "metadata": {
    "scrolled": false
   },
   "outputs": [],
   "source": [
    "Plot(title=\"rien\").add(tab_, 0, 1)\n",
    "Plot(title=\"colored_by=0\").add(tab_, 0, 1, colored_by=0,\n",
    "                               label={str(i):'label de '+str(i) for i in range(18)})\n",
    "Plot(title=\"colored_by='#000000'\").add(tab_, 0, 1, colored_by='#000000',\n",
    "                                       label=\"noir\")\n",
    "Plot(title=\"colored_by=lambda i, xy:xy[1][i]\")\\\n",
    "    .add(tab_, 0, 1, colored_by=lambda i, xy:xy[1][i],\n",
    "         label=\"jauge noir blanc\")\n",
    "Plot(title=\"colored_by=lambda i, xy:'#ff8888' if xy[1][i]>5 else '#88ff88'\")\\\n",
    "    .add(tab_, 0, 1, colored_by=lambda i, xy:'#ff8888' if xy[1][i]>5 else '#88ff88',\n",
    "         label={'#ff8888' :\"rouge (>5)\", '#88ff88': \"vert (<5)\"})\n",
    "Plot(title=\"colored_by=lambda i, xy:'>5' if xy[1][i]>5 else '<5'\")\\\n",
    "    .add(tab_, 0, 1, colored_by=lambda i, xy:'>5' if xy[1][i]>5 else '<5')"
   ]
  },
  {
   "cell_type": "code",
   "execution_count": null,
   "metadata": {},
   "outputs": [],
   "source": [
    "Plot(2, title=':)').add(x=range(100), y=lambda i, x: 50 * math.sin(x[i] / 10),\n",
    "                        marker='.', colored_by=lambda i, xy: xy[1][i], label='du noir au blanc') \\\n",
    "    .add(x=range(100), y=lambda i, x: 50 * math.sin(x[i] / 10) - 100,\n",
    "         marker='.', colored_by='#ff00ff', label='rose') \\\n",
    "    .add(x=range(100), y=lambda i, x: 50 * math.sin(x[i] / 10) - 200,\n",
    "         marker='.', colored_by=lambda i, xy: xy[1][i], label='du jaune au rouge') \\\n",
    "    .add(x=range(100), y=lambda i, x: 50 * math.sin(x[i] / 10) - 300,\n",
    "         marker='x', colored_by=lambda i, xy: ['#ff0000', '#00ff00', '#0000ff'][int(xy[1][i]) % 3],\n",
    "         label={'#ff0000': 'rouge', '#00ff00': 'vert', '#0000ff': 'bleu'}) \\\n",
    "    .add(x=range(100), y=lambda i, x: 50 * math.sin(x[i] / 10) - 400,\n",
    "         marker='.', markersize=3,\n",
    "         colored_by=lambda i, xy: '>-400' if xy[1][i] > -400 else '<=-400')"
   ]
  },
  {
   "cell_type": "markdown",
   "metadata": {},
   "source": [
    "##### Some plays with molecules"
   ]
  },
  {
   "cell_type": "code",
   "execution_count": null,
   "metadata": {},
   "outputs": [],
   "source": [
    "Plot(3, zlabel='z', bg_color='#aaaabb', title=\"molecule over graphene\").magic('invert_color_bars') \\\n",
    "    .add(tab, 'x', 'y', 'z', first_line=101, markersize=4, marker='.',\n",
    "         colored_by=lambda i, _: sum(charges.loc[101 + i,:])-4, label='delta charge') \\\n",
    "    .add(tab, 'x', 'y', 'z', last_line=100\n",
    "         , markersize=4, marker='o', colored_by='atom')"
   ]
  },
  {
   "cell_type": "code",
   "execution_count": null,
   "metadata": {},
   "outputs": [],
   "source": [
    "dict_atoms_colors={'H': '#ffffff', 'C':'#000000', 'N':'#0000aa', 'O':'#cc0000', 'Fe':'#aa00aa'}\n",
    "dict_colors_atoms={c: a for a, c in dict_atoms_colors.items()}\n",
    "Plot(2, bg_color='#225522', title=\"2D z axis projection\") \\\n",
    "    .add(tab, 'x', 'y', first_line=101, markersize=10, marker='.',\n",
    "         colored_by=lambda i, _: sum(charges.loc[101 + i,:])-4, label='delta charge')\\\n",
    "    .add(tab, 'x', 'y', last_line=100, colored_by=lambda i, xy: dict_atoms_colors[tab['atom'][i]], marker='.',\n",
    "        label=dict_colors_atoms)"
   ]
  },
  {
   "cell_type": "code",
   "execution_count": null,
   "metadata": {},
   "outputs": [],
   "source": [
    "Plot(2, bg_color='#cccccc', xlabel=\"x axis\", ylabel=\"y axis\", title=\"comparison\") \\\n",
    "    .add(tab, 'x', 'y', first_line=101, markersize=6, marker='o',\n",
    "         colored_by=lambda i, _: tab['z'][101 + i],\n",
    "         label=\"z axis\") \\\n",
    "    .add(tab, 'x', 'y', first_line=101, markersize=4, marker='x',\n",
    "         colored_by=lambda i, _: charges.loc[101 + i, 2],\n",
    "         label=\"external electrons\")"
   ]
  },
  {
   "cell_type": "code",
   "execution_count": null,
   "metadata": {},
   "outputs": [],
   "source": [
    "Plot(2, xlabel=\"atom\", ylabel=\"z axis\", title=\"z dispersion\") \\\n",
    "    .add(tab, 'atom', 'z', markersize=6, marker='o', colored_by='atom')"
   ]
  },
  {
   "cell_type": "code",
   "execution_count": null,
   "metadata": {},
   "outputs": [],
   "source": [
    "Plot(2, bg_color=\"#88aa88\").add(x=range(5), y=[15] + [random.randint(1, 10) for _ in range(4)], marker='bar',\n",
    "                                colored_by=lambda i, xy: xy[1][i]) \\\n",
    "    .add(x=range(5), y=[15] + [random.randint(1, 10) for _ in range(4)], marker='bar',\n",
    "         colored_by=lambda i, xy: xy[1][i], markersize=0.5) \\\n",
    "    .add(x=range(-1, 6), y=[5] * 7, colored_by='#bb5555')"
   ]
  },
  {
   "cell_type": "markdown",
   "metadata": {},
   "source": [
    "##### again some `colored_by` demo, this time in 3D"
   ]
  },
  {
   "cell_type": "code",
   "execution_count": null,
   "metadata": {},
   "outputs": [],
   "source": [
    "Plot(3, title='simple color').add(x=xgrid(-4, 4, 0.2), y=ygrid(-4, 4, 0.2), z=lambda i, x, y: (x[i] * y[i]) ** 3 + 5000,\n",
    "         marker='.', colored_by='#aa00aa', label='rose', markersize=2) "
   ]
  },
  {
   "cell_type": "code",
   "execution_count": null,
   "metadata": {},
   "outputs": [],
   "source": [
    "Plot(3, title='color bars')\\\n",
    "    .add(x=xgrid(-4, 4, 0.2), y=ygrid(-4, 4, 0.2), z=lambda i, x, y: (x[i] * y[i]) ** 3 + 2000,\n",
    "         marker='.', colored_by=lambda i, xy: xy[2][i], label='du jaune au rouge') \\\n",
    "    .add(x=xgrid(-4, 4, 0.2), y=ygrid(-4, 4, 0.2),\n",
    "                        z=lambda i, x, y: (x[i] * y[i]) ** 3 + 8000,\n",
    "                        marker='o', colored_by=lambda i, xy: xy[2][i], label='du noir au blanc', markersize=2) "
   ]
  },
  {
   "cell_type": "code",
   "execution_count": null,
   "metadata": {},
   "outputs": [],
   "source": [
    "Plot(3, title='custom color').add(x=xgrid(-4, 4, 0.2), y=ygrid(-4, 4, 0.2), z=lambda i, x, y: (x[i] * y[i]) ** 3 - 1000,\n",
    "         marker='.', colored_by=lambda i, xy: ['#aa0000', '#00aa00', '#0000aa'][int(xy[2][i]) % 3],\n",
    "         label={'#aa0000': 'rouge', '#00aa00': 'vert', '#0000aa': 'bleu'}, markersize=2) "
   ]
  },
  {
   "cell_type": "code",
   "execution_count": null,
   "metadata": {},
   "outputs": [],
   "source": [
    "Plot(3, title='custom color').add(x=xgrid(-4, 4, 0.2), y=ygrid(-4, 4, 0.2), z=lambda i, x, y: (x[i] * y[i]) ** 3 - 4000,\n",
    "         marker='.', markersize=3,\n",
    "         colored_by=lambda i, xy: 'exterieur' if math.sqrt(xy[0][i] ** 2 + xy[1][i] ** 2) > 3 else \n",
    "                                  'milieu' if math.sqrt(xy[0][i] ** 2 + xy[1][i] ** 2) > 2.5 else \n",
    "                                  'interieur')"
   ]
  },
  {
   "cell_type": "markdown",
   "metadata": {},
   "source": [
    "## Stats"
   ]
  },
  {
   "cell_type": "code",
   "execution_count": null,
   "metadata": {},
   "outputs": [],
   "source": []
  }
 ],
 "metadata": {
  "kernelspec": {
   "display_name": "Python 3",
   "language": "python",
   "name": "python3"
  },
  "language_info": {
   "codemirror_mode": {
    "name": "ipython",
    "version": 3
   },
   "file_extension": ".py",
   "mimetype": "text/x-python",
   "name": "python",
   "nbconvert_exporter": "python",
   "pygments_lexer": "ipython3",
   "version": "3.6.4"
  }
 },
 "nbformat": 4,
 "nbformat_minor": 2
}
