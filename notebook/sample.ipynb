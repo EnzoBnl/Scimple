{
 "cells": [
  {
   "cell_type": "code",
   "execution_count": 6,
   "metadata": {
    "scrolled": true
   },
   "outputs": [
    {
     "name": "stdout",
     "output_type": "stream",
     "text": [
      "[[None, 'H', 4.755162, -1.003886, 23.477489], [None, 'H', 7.188822, 2.987449, 23.504245], [None, 'H', 5.562981, -3.420502, 23.335969], [None, 'H', -3.719606, 4.115012, 23.264568], [None, 'H', -1.238212, 8.153534, 23.36198], [None, 'H', 9.694255, 3.470257, 23.371604], [None, 'H', 5.498527, 7.035964, 23.289556], [None, 'H', 0.337397, -1.41755, 23.344035], [None, 'H', 3.156778, 8.470036, 23.259472], [None, 'H', -2.005949, 0.009409, 23.309267], [None, 'H', -1.917773, 10.607451, 23.179509], [None, 'H', -6.220333, 3.664191, 23.036465], [None, 'C', 4.14609, -1.770662, 22.953253], [None, 'C', 4.499401, 6.698093, 22.956196], [None, 'C', 4.586434, -3.127127, 22.890068], [None, 'C', 0.180804, -0.379537, 22.995538], [None, 'C', 3.316105, 7.422865, 22.941106], [None, 'C', 7.56407, 3.874778, 22.950098], [None, 'C', -1.004801, 0.34217, 22.976939], [None, 'C', 8.962513, 4.156429, 22.888863], [None, 'H', -10.255206, 2.035537, 22.849338], [None, 'C', -4.080705, 3.192478, 22.762803], [None, 'H', -2.658899, 14.87515, 22.815431], [None, 'C', -0.591035, 8.877838, 22.822069], [None, 'H', 13.862357, 4.120854, 22.625526], [None, 'H', 5.423599, -7.975647, 22.605738], [None, 'C', -0.957971, 10.255534, 22.738788], [None, 'C', -5.478167, 2.922561, 22.664955], [None, 'H', 7.108081, -7.2998, 22.280301], [None, 'H', 13.505584, 5.839502, 22.028489], [None, 'C', 4.182764, 5.361254, 22.444499], [None, 'O', 5.615513, -5.784048, 22.40339], [None, 'C', 1.222747, 0.504578, 22.465802], [None, 'C', 2.278096, 6.526971, 22.421687], [None, 'C', -0.685792, 1.666057, 22.432125], [None, 'O', 11.771729, 4.519079, 22.408061], [None, 'C', 2.93949, -1.354365, 22.28764], [None, 'O', -1.837526, 12.951373, 22.256015], [None, 'C', 6.618128, 4.704979, 22.251152], [None, 'H', -1.339254, 14.957957, 21.514451], [None, 'C', 3.783705, -4.112177, 22.225444], [None, 'C', 6.015647, -7.207946, 22.038825], [None, 'C', 2.564371, 0.121013, 22.212614], [None, 'N', 2.802289, 5.240289, 22.190502], [None, 'N', 0.697678, 1.78425, 22.195473], [None, 'C', 5.138027, 4.343024, 22.198542], [None, 'C', -3.115772, 2.312301, 22.159527], [None, 'C', 0.594299, 8.393657, 22.163753], [None, 'C', 9.434199, 5.306589, 22.168922], [None, 'C', 13.210282, 4.75525, 21.967632], [None, 'C', -1.636898, 2.67754, 22.136165], [None, 'C', 0.939892, 6.908021, 22.143028], [None, 'Fe', 1.751351, 3.512404, 21.960168], [None, 'C', -2.225422, 14.382594, 21.90538], [None, 'C', -5.933579, 1.707695, 22.052511], [None, 'C', -0.104447, 11.191084, 22.061677], [None, 'C', 4.224316, -5.57944, 22.036933], [None, 'O', -8.255037, 2.545726, 22.135252], [None, 'N', 3.458744, 2.472563, 22.054048], [None, 'N', 0.044217, 4.553997, 22.01187], [None, 'C', 10.932415, 5.622285, 21.969898], [None, 'C', 3.592849, 1.064745, 21.902028], [None, 'C', 4.77343, 2.99307, 21.906132], [None, 'C', -7.431463, 1.370766, 21.893327], [None, 'C', -0.455837, 12.683055, 21.884186], [None, 'C', -0.08995, 5.961732, 21.850801], [None, 'C', -1.266471, 4.026169, 21.835792], [None, 'C', -9.725366, 2.242774, 21.882496], [None, 'C', 2.123631, -2.358325, 21.655082], [None, 'C', 2.526178, -3.725387, 21.651691], [None, 'O', -7.881529, 0.211781, 21.565762], [None, 'C', 7.099613, 5.874598, 21.564801], [None, 'O', 3.459927, -6.50323, 21.571724], [None, 'C', 4.953197, 0.733382, 21.538096], [None, 'C', 8.489847, 6.185752, 21.541258], [None, 'C', 5.690111, 1.933374, 21.548206], [None, 'C', -3.585816, 1.094442, 21.548127], [None, 'C', 1.445183, 9.341267, 21.491014], [None, 'C', -4.9739, 0.773942, 21.536728], [None, 'O', 11.374137, 6.713815, 21.453404], [None, 'H', -10.167242, 3.163703, 21.410475], [None, 'C', -1.445445, 6.288192, 21.469926], [None, 'C', -2.175582, 5.084194, 21.455304], [None, 'C', 1.115755, 10.727215, 21.467018], [None, 'O', 0.368741, 13.564817, 21.440574], [None, 'H', 5.324213, -0.270214, 21.250529], [None, 'H', 6.753621, 2.059644, 21.262309], [None, 'H', -1.820093, 7.288239, 21.172852], [None, 'H', -3.233393, 4.958538, 21.150012], [None, 'H', 5.877162, -7.397081, 20.936401], [None, 'H', -9.855707, 1.367554, 21.185558], [None, 'H', 1.201988, -2.048588, 21.112238], [None, 'H', 1.904288, -4.491862, 21.130697], [None, 'H', 13.343864, 4.40996, 20.902587], [None, 'H', 6.371999, 6.497009, 20.997679], [None, 'H', 8.859269, 7.067743, 20.963956], [None, 'H', -2.856439, 0.428665, 21.032806], [None, 'H', -3.019515, 14.347533, 21.105197], [None, 'H', -5.329632, -0.165256, 21.049106], [None, 'H', 2.334958, 8.965351, 20.935108], [None, 'H', 1.765051, 11.448621, 20.913593]]\n"
     ]
    }
   ],
   "source": [
    "#%matplotlib notebook\n",
    "from scimple import scimple\n",
    "#example :\n",
    "\n",
    "\n",
    "molecTable=scimple.ImportTable(\"phenyl-Fe-porphyirine-CO2-Me_4_rel.xyz\",firstLine=3,lastLine=103)\n",
    "grapheneTable=scimple.ImportTable(\"phenyl-Fe-porphyirine-CO2-Me_4_rel.xyz\",firstLine=104,lastLine=495)\n",
    "chargesGraphene=scimple.ImportTable(\"CHARGES_phenyl-Fe-porphyirine-CO2-Me_4_rel\",firstLine=104,lastLine=495)\n",
    "print(molecTable.getTable())\n",
    "\n"
   ]
  },
  {
   "cell_type": "code",
   "execution_count": 7,
   "metadata": {},
   "outputs": [
    {
     "data": {
      "text/plain": [
       "<IPython.core.display.Javascript object>"
      ]
     },
     "execution_count": 0,
     "metadata": {},
     "output_type": "execute_result"
    },
    {
     "data": {
      "text/html": [
       "<div id='36f93380-3819-43cc-a45f-8348475fbc96'></div>"
      ],
      "text/plain": [
       "<div id='36f93380-3819-43cc-a45f-8348475fbc96'></div>"
      ]
     },
     "execution_count": 0,
     "metadata": {},
     "output_type": "execute_result"
    }
   ],
   "source": [
    "\n",
    "\n",
    "#3D delta et molec\n",
    "\n",
    "myPlot3D=scimple.CreatePlot(dim=3,xlabel=\"X\",ylabel=\"Y\",zlabel=\"Z\",borders=[-40,40,-40,40,15,30],title=\"Test Graphe #3D delta et molec\")\n",
    "myPlot3D.addToPlot(molecTable,xColNum=2,yColNum=3,zColNum=4,markersize=2,coloredBy=1)\n",
    "myPlot3D.addToPlot(grapheneTable,xColNum=2,yColNum=3,zColNum=4,markersize=2,label=\"graphene\",coloredBy=lambda lineNum,line:(sum(chargesGraphene.getTable()[lineNum][1:]) -4))\n",
    "scimple.show()\n"
   ]
  },
  {
   "cell_type": "code",
   "execution_count": 8,
   "metadata": {},
   "outputs": [
    {
     "data": {
      "text/plain": [
       "<IPython.core.display.Javascript object>"
      ]
     },
     "execution_count": 0,
     "metadata": {},
     "output_type": "execute_result"
    },
    {
     "data": {
      "text/html": [
       "<div id='be3f72f4-e613-4bdb-b2a2-1d19d0353ec7'></div>"
      ],
      "text/plain": [
       "<div id='be3f72f4-e613-4bdb-b2a2-1d19d0353ec7'></div>"
      ]
     },
     "execution_count": 0,
     "metadata": {},
     "output_type": "execute_result"
    }
   ],
   "source": [
    "\"\"\"EN TESTS :\n",
    "#3D molec avec couleurs standards\n",
    "dicoCouleursStandards={'C':\"#000000\",'H':\"#ffffff\",'O':'r','N':'b','Fe':\"#00ffff\"}\n",
    "myPlot3D=scimple.CreatePlot(dim=3,xlabel=\"X\",ylabel=\"Y\",zlabel=\"Z\",borders=[-40,40,-40,40,15,30],title=\"Test Graphe #3D molec avec couleurs standards\")\n",
    "myPlot3D.addToPlot(molecTable,xColNum=2,yColNum=3,zColNum=4,coloredBy=lambda lineNum,line:dicoCouleursStandards[line[1]])\n",
    "\"\"\"\n",
    "#3D comparatif z et delta:\n",
    "\n",
    "myPlot3Dbis=scimple.CreatePlot(dim=3,xlabel=\"X\",ylabel=\"Y\",zlabel=\"Z\",borders=[-40,40,-40,40,15,30],title=\"Test Graphe #3D comparatif z et delta:\")\n",
    "myPlot3Dbis.addToPlot([grapheneTable.getTable()[i][:4]+[grapheneTable.getTable()[i][4]+10] for i in range (len(grapheneTable.getTable())-1)],xColNum=2,yColNum=3,zColNum=4,label=\"colored by z\",coloredBy=lambda lineNum,line:line[4])\n",
    "myPlot3Dbis.addToPlot(grapheneTable,xColNum=2,yColNum=3,zColNum=4,label=\"colored by delta\",coloredBy=lambda lineNum,line:(sum(chargesGraphene.getTable()[lineNum][1:]) -4))\n",
    "scimple.show()"
   ]
  },
  {
   "cell_type": "code",
   "execution_count": 10,
   "metadata": {},
   "outputs": [
    {
     "data": {
      "text/plain": [
       "<IPython.core.display.Javascript object>"
      ]
     },
     "execution_count": 0,
     "metadata": {},
     "output_type": "execute_result"
    },
    {
     "data": {
      "text/html": [
       "<div id='f7cf70f6-862b-479e-ab92-ceb97eccabb5'></div>"
      ],
      "text/plain": [
       "<div id='f7cf70f6-862b-479e-ab92-ceb97eccabb5'></div>"
      ]
     },
     "execution_count": 0,
     "metadata": {},
     "output_type": "execute_result"
    }
   ],
   "source": [
    "\n",
    "#2D:\n",
    "\n",
    "myPlot2D=scimple.CreatePlot(dim=2,xlabel=\"X\",zlabel=\"Z\",borders=[-20,20,18,19],title=\"Test Graphe 2D\")\n",
    "myPlot2D.addToPlot(grapheneTable,xColNum=3,yColNum=4,label=\"graphene Y/Z\",coloredBy=\"#f4a28c\",markersize=20)\n",
    "myPlot2D.addToPlot(grapheneTable, xColNum=2,yColNum=4,label=\"graphene X/Z\",plotType='-')\n",
    "scimple.show()\n"
   ]
  },
  {
   "cell_type": "code",
   "execution_count": 9,
   "metadata": {},
   "outputs": [
    {
     "data": {
      "text/plain": [
       "<IPython.core.display.Javascript object>"
      ]
     },
     "execution_count": 0,
     "metadata": {},
     "output_type": "execute_result"
    },
    {
     "data": {
      "text/html": [
       "<div id='ba016a42-a073-4052-b16c-47b993f0a838'></div>"
      ],
      "text/plain": [
       "<div id='ba016a42-a073-4052-b16c-47b993f0a838'></div>"
      ]
     },
     "execution_count": 0,
     "metadata": {},
     "output_type": "execute_result"
    }
   ],
   "source": [
    "\n",
    "#perso :\n",
    "#deux surfaces :\n",
    "\n",
    "myTable=scimple.ImportTable(\"ek_InTP_CO2_Me_4_graphene_W_r2_k.dat\",firstLine=1)\n",
    " \n",
    "myPlot3Dter=scimple.CreatePlot(dim=3,xlabel=\"X\",ylabel=\"Y\",zlabel=\"Z\",title=\"deux surfaces, point de weyl ?\")\n",
    "myPlot3Dter.addToPlot(myTable,xColNum=0,yColNum=1,zColNum=4,label=\"column 4\",coloredBy=\"#000000\")\n",
    "myPlot3Dter.addToPlot(myTable,xColNum=0,yColNum=1,zColNum=5,label=\"column 5\")\n",
    "scimple.show()\n"
   ]
  },
  {
   "cell_type": "code",
   "execution_count": 2,
   "metadata": {
    "collapsed": true
   },
   "outputs": [
    {
     "name": "stdout",
     "output_type": "stream",
     "text": [
      "0\n"
     ]
    }
   ],
   "source": [
    "print(0)"
   ]
  },
  {
   "cell_type": "code",
   "execution_count": null,
   "metadata": {
    "collapsed": true
   },
   "outputs": [],
   "source": []
  }
 ],
 "metadata": {
  "kernelspec": {
   "display_name": "Python 3",
   "language": "python",
   "name": "python3"
  },
  "language_info": {
   "codemirror_mode": {
    "name": "ipython",
    "version": 3
   },
   "file_extension": ".py",
   "mimetype": "text/x-python",
   "name": "python",
   "nbconvert_exporter": "python",
   "pygments_lexer": "ipython3",
   "version": "3.6.3"
  }
 },
 "nbformat": 4,
 "nbformat_minor": 2
}
