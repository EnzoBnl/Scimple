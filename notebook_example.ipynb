{
 "cells": [
  {
   "cell_type": "markdown",
   "metadata": {},
   "source": [
    "# SCIMPLE 1.10.3 examples of use"
   ]
  },
  {
   "cell_type": "code",
   "execution_count": 1,
   "metadata": {},
   "outputs": [],
   "source": [
    "import sys\n",
    "sys.path.append('c:/Prog/Python/Scimple/scm')"
   ]
  },
  {
   "cell_type": "code",
   "execution_count": 2,
   "metadata": {},
   "outputs": [],
   "source": [
    "# from importlib import reload\n",
    "# reload(kafka)"
   ]
  },
  {
   "cell_type": "markdown",
   "metadata": {},
   "source": [
    "## PySpark"
   ]
  },
  {
   "cell_type": "code",
   "execution_count": 7,
   "metadata": {},
   "outputs": [
    {
     "data": {
      "text/html": [
       "\n",
       "        <div>\n",
       "            <p><b>SparkContext</b></p>\n",
       "\n",
       "            <p><a href=\"http://EB-OR6146838.nanterre.francetelecom.fr:4040\">Spark UI</a></p>\n",
       "\n",
       "            <dl>\n",
       "              <dt>Version</dt>\n",
       "                <dd><code>v2.3.0</code></dd>\n",
       "              <dt>Master</dt>\n",
       "                <dd><code>local[*]</code></dd>\n",
       "              <dt>AppName</dt>\n",
       "                <dd><code>pyspark-shell</code></dd>\n",
       "            </dl>\n",
       "        </div>\n",
       "        "
      ],
      "text/plain": [
       "<SparkContext master=local[*] appName=pyspark-shell>"
      ]
     },
     "execution_count": 7,
     "metadata": {},
     "output_type": "execute_result"
    }
   ],
   "source": [
    "from scimple import pyspark_contexts\n",
    "sc, sqlc = pyspark_contexts()\n",
    "sc"
   ]
  },
  {
   "cell_type": "markdown",
   "metadata": {},
   "source": [
    "##### Word Count on some scimple source file:"
   ]
  },
  {
   "cell_type": "code",
   "execution_count": 4,
   "metadata": {},
   "outputs": [],
   "source": [
    "import re\n",
    "word_count = sc.textFile('scimple/plot.py').flatMap(lambda line: re.split(r' |:|,|\\n|\\t|\\(|\\)|\\{|\\}|\\[|\\]|\"|\\'', line))\\\n",
    "               .filter(lambda word: len(word)!=0)\\\n",
    "               .map(lambda word: (word, 1))\\\n",
    "               .reduceByKey(lambda a,b: a+b).sortBy(lambda pair: pair[1]).collect()"
   ]
  },
  {
   "cell_type": "markdown",
   "metadata": {},
   "source": [
    "##### Data Viz:\n",
    "(more in 'Plot' section)"
   ]
  },
  {
   "cell_type": "code",
   "execution_count": 6,
   "metadata": {
    "scrolled": true
   },
   "outputs": [
    {
     "data": {
      "text/plain": [
       "<scimple.plot.Plot at 0xfa3b710>"
      ]
     },
     "execution_count": 6,
     "metadata": {},
     "output_type": "execute_result"
    },
    {
     "data": {
      "image/png": "[encoded data removed]",
      "text/plain": [
       "<Figure size 432x288 with 1 Axes>"
      ]
     },
     "metadata": {},
     "output_type": "display_data"
    }
   ],
   "source": [
    "from scimple import Plot\n",
    "%matplotlib inline\n",
    "Plot(title='words count in scimple source', xlabel='word', ylabel='occurence')\\\n",
    "     .add(word_count[-20:-1], 0, 1, marker='bar', colored_by=1)"
   ]
  },
  {
   "cell_type": "markdown",
   "metadata": {},
   "source": [
    "## Kafka"
   ]
  },
  {
   "cell_type": "code",
   "execution_count": 8,
   "metadata": {},
   "outputs": [],
   "source": [
    "from scimple import kafka"
   ]
  },
  {
   "cell_type": "code",
   "execution_count": 26,
   "metadata": {},
   "outputs": [
    {
     "name": "stdout",
     "output_type": "stream",
     "text": [
      "Kafka server started\n"
     ]
    }
   ],
   "source": [
    "kafka.start_server(window=5)"
   ]
  },
  {
   "cell_type": "code",
   "execution_count": 2,
   "metadata": {},
   "outputs": [],
   "source": [
    "dstream = kafka.create_dstream('readme_lines')"
   ]
  },
  {
   "cell_type": "code",
   "execution_count": 40,
   "metadata": {
    "scrolled": true
   },
   "outputs": [],
   "source": [
    "rdd_buff = list()\n",
    "dstream.foreachRDD(lambda rdd: rdd_buff.append(rdd.collect()))"
   ]
  },
  {
   "cell_type": "code",
   "execution_count": 29,
   "metadata": {},
   "outputs": [
    {
     "name": "stdout",
     "output_type": "stream",
     "text": [
      "StreamingContext started\n"
     ]
    }
   ],
   "source": [
    "kafka.start_listening()"
   ]
  },
  {
   "cell_type": "code",
   "execution_count": 30,
   "metadata": {
    "scrolled": true
   },
   "outputs": [],
   "source": [
    "import time\n",
    "for line in open('README.rst', 'r').read().split('\\n'):\n",
    "    kafka.talk('readme_lines', line)"
   ]
  },
  {
   "cell_type": "code",
   "execution_count": 31,
   "metadata": {},
   "outputs": [],
   "source": [
    "kafka.flush()"
   ]
  },
  {
   "cell_type": "code",
   "execution_count": 32,
   "metadata": {},
   "outputs": [
    {
     "name": "stdout",
     "output_type": "stream",
     "text": [
      "StreamingContext closed\n"
     ]
    }
   ],
   "source": [
    "kafka.stop_listening()"
   ]
  },
  {
   "cell_type": "code",
   "execution_count": 33,
   "metadata": {},
   "outputs": [
    {
     "name": "stdout",
     "output_type": "stream",
     "text": [
      "Kafka server ended\n"
     ]
    }
   ],
   "source": [
    "kafka.stop_server()"
   ]
  },
  {
   "cell_type": "code",
   "execution_count": 38,
   "metadata": {},
   "outputs": [
    {
     "name": "stdout",
     "output_type": "stream",
     "text": [
      "Scimple Lib\n",
      "Plot your data scimply\n",
      "github.com/EnzoBnl/Scimple\n",
      "\n",
      "Enzo Bonnal\n",
      "enzobonnal@gmail.com\n",
      "\n",
      "TEST:\n",
      "\tTest package by running: \n",
      "\tpip install scimple\n",
      "\tor locally within cloned repository: pip install .\n"
     ]
    }
   ],
   "source": [
    "from scimple.utils import flatten_n_times\n",
    "print('\\n'.join([key_value[1] for key_value in flatten_n_times(1,rdd_buff)]))"
   ]
  },
  {
   "cell_type": "markdown",
   "metadata": {},
   "source": [
    "### Environment to JSON"
   ]
  },
  {
   "cell_type": "code",
   "execution_count": 9,
   "metadata": {
    "scrolled": true
   },
   "outputs": [
    {
     "name": "stdout",
     "output_type": "stream",
     "text": [
      "SUCCESS : Path exported in JSON\n",
      "c:/Prog/Python/MyLibs;\n"
     ]
    }
   ],
   "source": [
    "from scimple import save_environ\n",
    "name = save_environ()\n",
    "import os\n",
    "import json\n",
    "print(json.load(open(name))['PYTHONPATH'])\n",
    "os.remove(name)"
   ]
  },
  {
   "cell_type": "markdown",
   "metadata": {},
   "source": [
    "## Plots"
   ]
  },
  {
   "cell_type": "code",
   "execution_count": 1,
   "metadata": {},
   "outputs": [
    {
     "name": "stdout",
     "output_type": "stream",
     "text": [
      "using scimple 1.10.3\n"
     ]
    },
    {
     "ename": "NameError",
     "evalue": "name 're' is not defined",
     "output_type": "error",
     "traceback": [
      "\u001b[1;31m---------------------------------------------------------------------------\u001b[0m",
      "\u001b[1;31mNameError\u001b[0m                                 Traceback (most recent call last)",
      "\u001b[1;32m<ipython-input-1-8e8535b28272>\u001b[0m in \u001b[0;36m<module>\u001b[1;34m()\u001b[0m\n\u001b[0;32m      3\u001b[0m \u001b[1;32mimport\u001b[0m \u001b[0mmath\u001b[0m\u001b[1;33m\u001b[0m\u001b[0m\n\u001b[0;32m      4\u001b[0m \u001b[1;32mimport\u001b[0m \u001b[0mrandom\u001b[0m\u001b[1;33m\u001b[0m\u001b[0m\n\u001b[1;32m----> 5\u001b[1;33m \u001b[0mtab\u001b[0m \u001b[1;33m=\u001b[0m \u001b[0mget_sample\u001b[0m\u001b[1;33m(\u001b[0m\u001b[1;34m'xyz'\u001b[0m\u001b[1;33m,\u001b[0m \u001b[0mpd\u001b[0m\u001b[1;33m.\u001b[0m\u001b[0mDataFrame\u001b[0m\u001b[1;33m)\u001b[0m\u001b[1;33m\u001b[0m\u001b[0m\n\u001b[0m\u001b[0;32m      6\u001b[0m \u001b[0mtab_\u001b[0m\u001b[1;33m=\u001b[0m\u001b[1;33m[\u001b[0m\u001b[1;33m[\u001b[0m\u001b[0mi\u001b[0m\u001b[1;33m,\u001b[0m\u001b[0mi\u001b[0m\u001b[1;33m//\u001b[0m\u001b[1;36m2\u001b[0m\u001b[1;33m]\u001b[0m \u001b[1;32mfor\u001b[0m \u001b[0mi\u001b[0m \u001b[1;32min\u001b[0m \u001b[0mrange\u001b[0m\u001b[1;33m(\u001b[0m\u001b[1;36m20\u001b[0m\u001b[1;33m)\u001b[0m\u001b[1;33m]\u001b[0m\u001b[1;33m\u001b[0m\u001b[0m\n\u001b[0;32m      7\u001b[0m \u001b[0mcharges\u001b[0m \u001b[1;33m=\u001b[0m \u001b[0mget_sample\u001b[0m\u001b[1;33m(\u001b[0m\u001b[1;34m'charges'\u001b[0m\u001b[1;33m,\u001b[0m \u001b[0mpd\u001b[0m\u001b[1;33m.\u001b[0m\u001b[0mDataFrame\u001b[0m\u001b[1;33m)\u001b[0m\u001b[1;33m\u001b[0m\u001b[0m\n",
      "\u001b[1;32mc:\\Prog\\Python\\Scimple\\scm\\scimple\\utils.py\u001b[0m in \u001b[0;36mget_sample\u001b[1;34m(id, cast)\u001b[0m\n\u001b[0;32m    200\u001b[0m            'adults': 'adult.txt'}\n\u001b[0;32m    201\u001b[0m     \u001b[1;32mif\u001b[0m \u001b[0mid\u001b[0m \u001b[1;33m==\u001b[0m \u001b[1;34m'xyz'\u001b[0m\u001b[1;33m:\u001b[0m\u001b[1;33m\u001b[0m\u001b[0m\n\u001b[1;32m--> 202\u001b[1;33m         \u001b[0mres\u001b[0m \u001b[1;33m=\u001b[0m \u001b[1;33m[\u001b[0m\u001b[0mline\u001b[0m\u001b[1;33m[\u001b[0m\u001b[1;36m1\u001b[0m\u001b[1;33m:\u001b[0m\u001b[1;33m]\u001b[0m \u001b[1;32mfor\u001b[0m \u001b[0mline\u001b[0m \u001b[1;32min\u001b[0m \u001b[0mload_csv\u001b[0m\u001b[1;33m(\u001b[0m\u001b[0mget_scimple_data_path\u001b[0m\u001b[1;33m(\u001b[0m\u001b[0mdic\u001b[0m\u001b[1;33m[\u001b[0m\u001b[0mid\u001b[0m\u001b[1;33m]\u001b[0m\u001b[1;33m)\u001b[0m\u001b[1;33m,\u001b[0m \u001b[1;34mr'[\\t| ]*[[\\r\\n]|\\n]'\u001b[0m\u001b[1;33m,\u001b[0m \u001b[1;34mr'[\\t| ]+'\u001b[0m\u001b[1;33m)\u001b[0m\u001b[1;33m[\u001b[0m\u001b[1;36m2\u001b[0m\u001b[1;33m:\u001b[0m\u001b[1;33m-\u001b[0m\u001b[1;36m1\u001b[0m\u001b[1;33m]\u001b[0m\u001b[1;33m]\u001b[0m\u001b[1;33m\u001b[0m\u001b[0m\n\u001b[0m\u001b[0;32m    203\u001b[0m     \u001b[1;32melif\u001b[0m \u001b[0mid\u001b[0m \u001b[1;33m==\u001b[0m \u001b[1;34m'charges'\u001b[0m\u001b[1;33m:\u001b[0m\u001b[1;33m\u001b[0m\u001b[0m\n\u001b[0;32m    204\u001b[0m         \u001b[0mres\u001b[0m \u001b[1;33m=\u001b[0m \u001b[1;33m[\u001b[0m\u001b[0mline\u001b[0m\u001b[1;33m[\u001b[0m\u001b[1;36m1\u001b[0m\u001b[1;33m:\u001b[0m\u001b[1;33m]\u001b[0m \u001b[1;32mfor\u001b[0m \u001b[0mline\u001b[0m \u001b[1;32min\u001b[0m \u001b[0mload_csv\u001b[0m\u001b[1;33m(\u001b[0m\u001b[0mget_scimple_data_path\u001b[0m\u001b[1;33m(\u001b[0m\u001b[0mdic\u001b[0m\u001b[1;33m[\u001b[0m\u001b[0mid\u001b[0m\u001b[1;33m]\u001b[0m\u001b[1;33m)\u001b[0m\u001b[1;33m,\u001b[0m \u001b[1;34mr'[\\t| ]*[[\\r\\n]|\\n]'\u001b[0m\u001b[1;33m,\u001b[0m \u001b[1;34mr'[\\t| ]+'\u001b[0m\u001b[1;33m)\u001b[0m\u001b[1;33m[\u001b[0m\u001b[1;36m2\u001b[0m\u001b[1;33m:\u001b[0m\u001b[1;33m-\u001b[0m\u001b[1;36m1\u001b[0m\u001b[1;33m]\u001b[0m\u001b[1;33m]\u001b[0m\u001b[1;33m\u001b[0m\u001b[0m\n",
      "\u001b[1;32mc:\\Prog\\Python\\Scimple\\scm\\scimple\\utils.py\u001b[0m in \u001b[0;36mload_csv\u001b[1;34m(path, delimiter, sep)\u001b[0m\n\u001b[0;32m    240\u001b[0m     \u001b[0mf\u001b[0m\u001b[1;33m.\u001b[0m\u001b[0mclose\u001b[0m\u001b[1;33m(\u001b[0m\u001b[1;33m)\u001b[0m\u001b[1;33m\u001b[0m\u001b[0m\n\u001b[0;32m    241\u001b[0m     return [[try_apply(elem, [int, float]) for elem in re.split(sep, line)] for line in\n\u001b[1;32m--> 242\u001b[1;33m             re.split(delimiter, as_string)]\n\u001b[0m",
      "\u001b[1;31mNameError\u001b[0m: name 're' is not defined"
     ]
    }
   ],
   "source": [
    "from scimple import Plot, get_sample, xgrid, ygrid\n",
    "import pandas as pd\n",
    "import math\n",
    "import random\n",
    "tab = get_sample('xyz', pd.DataFrame)\n",
    "tab_=[[i,i//2] for i in range(20)]\n",
    "charges = get_sample('charges', pd.DataFrame)\n",
    "tab.columns=['atom', 'x', 'y', 'z']\n",
    "# %matplotlib notebook\n",
    "%matplotlib inline"
   ]
  },
  {
   "cell_type": "markdown",
   "metadata": {},
   "source": [
    "##### `colored_by` parameter possibilities"
   ]
  },
  {
   "cell_type": "code",
   "execution_count": null,
   "metadata": {
    "scrolled": false
   },
   "outputs": [],
   "source": [
    "Plot(title=\"rien\").add(tab_, 0, 1)\n",
    "Plot(title=\"colored_by=0\").add(tab_, 0, 1, colored_by=0,\n",
    "                               label={str(i):'label de '+str(i) for i in range(18)})\n",
    "Plot(title=\"colored_by='#000000'\").add(tab_, 0, 1, colored_by='#000000',\n",
    "                                       label=\"noir\")\n",
    "Plot(title=\"colored_by=lambda i, xy:xy[1][i]\")\\\n",
    "    .add(tab_, 0, 1, colored_by=lambda i, xy:xy[1][i],\n",
    "         label=\"jauge noir blanc\")\n",
    "Plot(title=\"colored_by=lambda i, xy:'#ff8888' if xy[1][i]>5 else '#88ff88'\")\\\n",
    "    .add(tab_, 0, 1, colored_by=lambda i, xy:'#ff8888' if xy[1][i]>5 else '#88ff88',\n",
    "         label={'#ff8888' :\"rouge (>5)\", '#88ff88': \"vert (<5)\"})\n",
    "Plot(title=\"colored_by=lambda i, xy:'>5' if xy[1][i]>5 else '<5'\")\\\n",
    "    .add(tab_, 0, 1, colored_by=lambda i, xy:'>5' if xy[1][i]>5 else '<5')"
   ]
  },
  {
   "cell_type": "code",
   "execution_count": 11,
   "metadata": {},
   "outputs": [
    {
     "name": "stderr",
     "output_type": "stream",
     "text": [
      "No handles with labels found to put in legend.\n",
      "No handles with labels found to put in legend.\n"
     ]
    },
    {
     "data": {
      "text/plain": [
       "<scimple.plot.Plot at 0xffd9e80>"
      ]
     },
     "execution_count": 11,
     "metadata": {},
     "output_type": "execute_result"
    },
    {
     "data": {
      "image/png": "[encoded data removed]",
      "text/plain": [
       "<Figure size 432x288 with 3 Axes>"
      ]
     },
     "metadata": {},
     "output_type": "display_data"
    }
   ],
   "source": [
    "Plot(2, title=':)').add(x=range(100), y=lambda i, x: 50 * math.sin(x[i] / 10),\n",
    "                        marker='.', colored_by=lambda i, xy: xy[1][i], label='du noir au blanc') \\\n",
    "    .add(x=range(100), y=lambda i, x: 50 * math.sin(x[i] / 10) - 100,\n",
    "         marker='.', colored_by='#ff00ff', label='rose') \\\n",
    "    .add(x=range(100), y=lambda i, x: 50 * math.sin(x[i] / 10) - 200,\n",
    "         marker='.', colored_by=lambda i, xy: xy[1][i], label='du jaune au rouge') \\\n",
    "    .add(x=range(100), y=lambda i, x: 50 * math.sin(x[i] / 10) - 300,\n",
    "         marker='x', colored_by=lambda i, xy: ['#ff0000', '#00ff00', '#0000ff'][int(xy[1][i]) % 3],\n",
    "         label={'#ff0000': 'rouge', '#00ff00': 'vert', '#0000ff': 'bleu'}) \\\n",
    "    .add(x=range(100), y=lambda i, x: 50 * math.sin(x[i] / 10) - 400,\n",
    "         marker='.', markersize=3,\n",
    "         colored_by=lambda i, xy: '>-400' if xy[1][i] > -400 else '<=-400')"
   ]
  },
  {
   "cell_type": "markdown",
   "metadata": {},
   "source": [
    "##### Some plays with molecules"
   ]
  },
  {
   "cell_type": "code",
   "execution_count": 12,
   "metadata": {},
   "outputs": [
    {
     "name": "stderr",
     "output_type": "stream",
     "text": [
      "No handles with labels found to put in legend.\n"
     ]
    },
    {
     "data": {
      "text/plain": [
       "<scimple.plot.Plot at 0x100444e0>"
      ]
     },
     "execution_count": 12,
     "metadata": {},
     "output_type": "execute_result"
    },
    {
     "data": {
      "image/png": "[encoded data removed]",
      "text/plain": [
       "<Figure size 432x288 with 2 Axes>"
      ]
     },
     "metadata": {},
     "output_type": "display_data"
    }
   ],
   "source": [
    "Plot(3, zlabel='z', bg_color='#aaaabb', title=\"molecule over graphene\").magic('invert_color_bars') \\\n",
    "    .add(tab, 'x', 'y', 'z', first_line=101, markersize=4, marker='.',\n",
    "         colored_by=lambda i, _: sum(charges.loc[101 + i,:])-4, label='delta charge') \\\n",
    "    .add(tab, 'x', 'y', 'z', last_line=100\n",
    "         , markersize=4, marker='o', colored_by='atom')"
   ]
  },
  {
   "cell_type": "code",
   "execution_count": null,
   "metadata": {},
   "outputs": [],
   "source": [
    "dict_atoms_colors={'H': '#ffffff', 'C':'#000000', 'N':'#0000aa', 'O':'#cc0000', 'Fe':'#aa00aa'}\n",
    "dict_colors_atoms={c: a for a, c in dict_atoms_colors.items()}\n",
    "Plot(2, bg_color='#225522', title=\"2D z axis projection\") \\\n",
    "    .add(tab, 'x', 'y', first_line=101, markersize=10, marker='.',\n",
    "         colored_by=lambda i, _: sum(charges.loc[101 + i,:])-4, label='delta charge')\\\n",
    "    .add(tab, 'x', 'y', last_line=100, colored_by=lambda i, xy: dict_atoms_colors[tab['atom'][i]], marker='.',\n",
    "        label=dict_colors_atoms)"
   ]
  },
  {
   "cell_type": "code",
   "execution_count": null,
   "metadata": {},
   "outputs": [],
   "source": [
    "Plot(2, bg_color='#cccccc', xlabel=\"x axis\", ylabel=\"y axis\", title=\"comparison\") \\\n",
    "    .add(tab, 'x', 'y', first_line=101, markersize=6, marker='o',\n",
    "         colored_by=lambda i, _: tab['z'][101 + i],\n",
    "         label=\"z axis\") \\\n",
    "    .add(tab, 'x', 'y', first_line=101, markersize=4, marker='x',\n",
    "         colored_by=lambda i, _: charges.loc[101 + i, 2],\n",
    "         label=\"external electrons\")"
   ]
  },
  {
   "cell_type": "code",
   "execution_count": null,
   "metadata": {},
   "outputs": [],
   "source": [
    "Plot(2, xlabel=\"atom\", ylabel=\"z axis\", title=\"z dispersion\") \\\n",
    "    .add(tab, 'atom', 'z', markersize=6, marker='o', colored_by='atom')"
   ]
  },
  {
   "cell_type": "code",
   "execution_count": null,
   "metadata": {},
   "outputs": [],
   "source": [
    "Plot(2, bg_color=\"#88aa88\").add(x=range(5), y=[15] + [random.randint(1, 10) for _ in range(4)], marker='bar',\n",
    "                                colored_by=lambda i, xy: xy[1][i]) \\\n",
    "    .add(x=range(5), y=[15] + [random.randint(1, 10) for _ in range(4)], marker='bar',\n",
    "         colored_by=lambda i, xy: xy[1][i], markersize=0.5) \\\n",
    "    .add(x=range(-1, 6), y=[5] * 7, colored_by='#bb5555')"
   ]
  },
  {
   "cell_type": "markdown",
   "metadata": {},
   "source": [
    "##### again some `colored_by` demo, this time in 3D"
   ]
  },
  {
   "cell_type": "code",
   "execution_count": null,
   "metadata": {},
   "outputs": [],
   "source": [
    "Plot(3, title='simple color').add(x=xgrid(-4, 4, 0.2), y=ygrid(-4, 4, 0.2), z=lambda i, x, y: (x[i] * y[i]) ** 3 + 5000,\n",
    "         marker='.', colored_by='#aa00aa', label='rose', markersize=2) "
   ]
  },
  {
   "cell_type": "code",
   "execution_count": null,
   "metadata": {},
   "outputs": [],
   "source": [
    "Plot(3, title='color bars')\\\n",
    "    .add(x=xgrid(-4, 4, 0.2), y=ygrid(-4, 4, 0.2), z=lambda i, x, y: (x[i] * y[i]) ** 3 + 2000,\n",
    "         marker='.', colored_by=lambda i, xy: xy[2][i], label='du jaune au rouge') \\\n",
    "    .add(x=xgrid(-4, 4, 0.2), y=ygrid(-4, 4, 0.2),\n",
    "                        z=lambda i, x, y: (x[i] * y[i]) ** 3 + 8000,\n",
    "                        marker='o', colored_by=lambda i, xy: xy[2][i], label='du noir au blanc', markersize=2) "
   ]
  },
  {
   "cell_type": "code",
   "execution_count": null,
   "metadata": {},
   "outputs": [],
   "source": [
    "Plot(3, title='custom color').add(x=xgrid(-4, 4, 0.2), y=ygrid(-4, 4, 0.2), z=lambda i, x, y: (x[i] * y[i]) ** 3 - 1000,\n",
    "         marker='.', colored_by=lambda i, xy: ['#aa0000', '#00aa00', '#0000aa'][int(xy[2][i]) % 3],\n",
    "         label={'#aa0000': 'rouge', '#00aa00': 'vert', '#0000aa': 'bleu'}, markersize=2) "
   ]
  },
  {
   "cell_type": "code",
   "execution_count": null,
   "metadata": {},
   "outputs": [],
   "source": [
    "Plot(3, title='custom color').add(x=xgrid(-4, 4, 0.2), y=ygrid(-4, 4, 0.2), z=lambda i, x, y: (x[i] * y[i]) ** 3 - 4000,\n",
    "         marker='.', markersize=3,\n",
    "         colored_by=lambda i, xy: 'exterieur' if math.sqrt(xy[0][i] ** 2 + xy[1][i] ** 2) > 3 else \n",
    "                                  'milieu' if math.sqrt(xy[0][i] ** 2 + xy[1][i] ** 2) > 2.5 else \n",
    "                                  'interieur')"
   ]
  },
  {
   "cell_type": "markdown",
   "metadata": {},
   "source": [
    "## Stats"
   ]
  },
  {
   "cell_type": "code",
   "execution_count": 1,
   "metadata": {},
   "outputs": [
    {
     "name": "stdout",
     "output_type": "stream",
     "text": [
      "using 1.10.3\n"
     ]
    }
   ],
   "source": [
    "import sys\n",
    "sys.path.append('c:/Prog/Python/Scimple/')\n",
    "from scm.scimple.stats import Serie"
   ]
  },
  {
   "cell_type": "code",
   "execution_count": 2,
   "metadata": {},
   "outputs": [],
   "source": [
    "s = Serie([0,1,2,1,3,1,3,2,0,2,3,1,3,3,3,3,2], Serie.quantitative_discrete)"
   ]
  },
  {
   "cell_type": "code",
   "execution_count": 3,
   "metadata": {},
   "outputs": [
    {
     "data": {
      "text/plain": [
       "1.9411764705882353"
      ]
     },
     "execution_count": 3,
     "metadata": {},
     "output_type": "execute_result"
    }
   ],
   "source": [
    "s.moyenne"
   ]
  },
  {
   "cell_type": "code",
   "execution_count": 5,
   "metadata": {},
   "outputs": [
    {
     "data": {
      "text/plain": [
       "valeurs\n",
       "0    2\n",
       "1    4\n",
       "2    4\n",
       "3    7\n",
       "Name: n, dtype: int64"
      ]
     },
     "execution_count": 5,
     "metadata": {},
     "output_type": "execute_result"
    }
   ],
   "source": [
    "s.tableau_statistique"
   ]
  },
  {
   "cell_type": "code",
   "execution_count": null,
   "metadata": {},
   "outputs": [],
   "source": []
  }
 ],
 "metadata": {
  "kernelspec": {
   "display_name": "Python 3",
   "language": "python",
   "name": "python3"
  }
 },
 "nbformat": 4,
 "nbformat_minor": 2
}
